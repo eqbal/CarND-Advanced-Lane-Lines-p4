{
 "cells": [
  {
   "cell_type": "markdown",
   "metadata": {},
   "source": [
    "# Playground \n",
    "\n",
    "## Advanced Lane Detection\n",
    "\n",
    "### Main steps \n",
    "\n",
    "\n",
    "- Camera Calibration\n",
    "- Distortion Correction\n",
    "- Color and Gradient Threshold\n",
    "- Perspective Transform\n",
    "- Detect Lane Lines\n",
    "- Determine Lane Curvature\n",
    "- Impose Lane Boundaries on Original Image\n",
    "- Output Visual Display of Lane Boundaries and Numerical Estimation of Lane Curvature and Vehicle Position"
   ]
  },
  {
   "cell_type": "markdown",
   "metadata": {},
   "source": [
    "#### Import required Modules and Classes"
   ]
  },
  {
   "cell_type": "code",
   "execution_count": 2,
   "metadata": {
    "collapsed": true
   },
   "outputs": [],
   "source": [
    "import matplotlib.pyplot as plt\n",
    "\n",
    "from moviepy.editor import VideoFileClip\n",
    "import math\n",
    "\n",
    "%matplotlib inline"
   ]
  },
  {
   "cell_type": "markdown",
   "metadata": {},
   "source": [
    "#### Camera Calibration"
   ]
  },
  {
   "cell_type": "code",
   "execution_count": 4,
   "metadata": {
    "collapsed": false
   },
   "outputs": [
    {
     "name": "stdout",
     "output_type": "stream",
     "text": [
      "[CameraCalibration] Image 0 skipped during calibrations\n",
      "[CameraCalibration] Image 14 skipped during calibrations\n",
      "[CameraCalibration] Image 15 skipped during calibrations\n"
     ]
    }
   ],
   "source": [
    "from camera_calibrate import *\n",
    "\n",
    "cc = CameraCalibrate(hcount=6, vcount=9)\n",
    "\n",
    "cc.get_images()\n",
    "cc.call()"
   ]
  },
  {
   "cell_type": "code",
   "execution_count": 5,
   "metadata": {
    "collapsed": false
   },
   "outputs": [
    {
     "name": "stdout",
     "output_type": "stream",
     "text": [
      "[[  1.15396091e+03   0.00000000e+00   6.69706056e+02]\n",
      " [  0.00000000e+00   1.14802495e+03   3.85655654e+02]\n",
      " [  0.00000000e+00   0.00000000e+00   1.00000000e+00]]\n",
      "[[ -2.41016964e-01  -5.30788794e-02  -1.15812035e-03  -1.28281652e-04\n",
      "    2.67259026e-02]]\n"
     ]
    }
   ],
   "source": [
    "print(cc.mtx)\n",
    "print(cc.dist)"
   ]
  },
  {
   "cell_type": "code",
   "execution_count": null,
   "metadata": {
    "collapsed": true
   },
   "outputs": [],
   "source": []
  }
 ],
 "metadata": {
  "anaconda-cloud": {},
  "kernelspec": {
   "display_name": "Python [default]",
   "language": "python",
   "name": "python3"
  },
  "language_info": {
   "codemirror_mode": {
    "name": "ipython",
    "version": 3
   },
   "file_extension": ".py",
   "mimetype": "text/x-python",
   "name": "python",
   "nbconvert_exporter": "python",
   "pygments_lexer": "ipython3",
   "version": "3.5.2"
  }
 },
 "nbformat": 4,
 "nbformat_minor": 1
}
